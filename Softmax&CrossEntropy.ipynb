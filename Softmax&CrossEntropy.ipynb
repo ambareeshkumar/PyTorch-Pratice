{
 "cells": [
  {
   "cell_type": "markdown",
   "metadata": {},
   "source": [
    "#### Implementing Softmax and Cross-Entropy Loss Function using Numpy and PyTorch"
   ]
  },
  {
   "cell_type": "code",
   "execution_count": 2,
   "metadata": {},
   "outputs": [],
   "source": [
    "# Importing the libraries\n",
    "\n",
    "import numpy as np\n",
    "import torch"
   ]
  },
  {
   "cell_type": "code",
   "execution_count": 8,
   "metadata": {},
   "outputs": [
    {
     "name": "stdout",
     "output_type": "stream",
     "text": [
      "Softmax of df [0.09003057 0.24472847 0.66524096]\n"
     ]
    }
   ],
   "source": [
    "# Implementing Softmax function using Numpy\n",
    "\n",
    "\"\"\"\"\n",
    "Formula for Softmax Function = e^i / sum(e^i)\n",
    "\n",
    "    Here :\n",
    "        e = Euler's number -> 2.71828\n",
    "        i = input data\n",
    "        sum = sum of all the input data\n",
    "        e^i = exponential of input data\n",
    "        sum(e^i) = sum of exponential of input data\n",
    "\"\"\"\n",
    "\n",
    "def softmax(data):\n",
    "    return np.exp(data) / np.sum(np.exp(data), axis=0)\n",
    "\n",
    "df = np.array([1.0, 2.0, 3.0])\n",
    "print(f'Softmax of df {softmax(df)}')"
   ]
  },
  {
   "cell_type": "code",
   "execution_count": 12,
   "metadata": {},
   "outputs": [
    {
     "name": "stdout",
     "output_type": "stream",
     "text": [
      "Softmax of sample tensor([0.0900, 0.2447, 0.6652])\n"
     ]
    }
   ],
   "source": [
    "# Implementing Softmax using PyTorch\n",
    "sample = torch.tensor([1.0, 2.0, 3.0])\n",
    "print(f'Softmax of sample {torch.softmax(sample, axis = 0)}')"
   ]
  },
  {
   "cell_type": "code",
   "execution_count": 14,
   "metadata": {},
   "outputs": [
    {
     "name": "stdout",
     "output_type": "stream",
     "text": [
      "Cross Entropy Loss using Numpy 0.11889164797957748 with correct prediction\n",
      "Cross Entropy Loss using Numpy 0.7675283643313485 with incorrect prediction\n"
     ]
    }
   ],
   "source": [
    "# Implementing the cross entropy using Numpy\n",
    "\n",
    "\"\"\"\"\n",
    "Formula for Cross Entropy Loss -1/n * sum(yi * log(pi))\n",
    "    Here :\n",
    "        yi is the actual value\n",
    "        pi is the predicted value\n",
    "        n is the number of samples\n",
    "\"\"\"\n",
    "def cross_entropy(actual,predicted):\n",
    "    loss = - np.sum(actual * np.log(predicted))\n",
    "    return loss / predicted.shape[0]\n",
    "\n",
    "# Here we are using the actual and predicted values of the data i.e target and predicted values\n",
    "\n",
    "actual = np.array([1, 0, 0]) # we should have the actual value in one hot encoded format. Here we have 3 class and the actual value is 1\n",
    "good_predicted = np.array([0.7, 0.2, 0.1]) # These are softmax values of the predicted data\n",
    "bad_predicted = np.array([0.1, 0.3, 0.6]) # These are softmax values of the predicted data\n",
    "\n",
    "# As you can see the loss is higher when the prediction is incorrect\n",
    "print(f'Cross Entropy Loss using Numpy {cross_entropy(actual, predicted)} with correct prediction')\n",
    "print(f'Cross Entropy Loss using Numpy {cross_entropy(actual, bad_predicted)} with incorrect prediction')"
   ]
  },
  {
   "cell_type": "code",
   "execution_count": 39,
   "metadata": {},
   "outputs": [
    {
     "name": "stdout",
     "output_type": "stream",
     "text": [
      "Cross Entropy Loss using PyTorch 0.4170299470424652 with correct prediction\n",
      "Cross Entropy Loss using PyTorch 1.840616226196289 with incorrect prediction\n"
     ]
    }
   ],
   "source": [
    "# Implementing the cross entropy using PyTorch\n",
    "\n",
    "\"\"\"\n",
    "PyTorch has a built-in function for calculating the cross entropy loss. Here we don't need to use softmax function because the cross entropy function will take care of it\n",
    "\"\"\"\n",
    "\n",
    "actual = torch.tensor([0]) # Here we don't need to one hot encode the actual value because PyTorch will take care of it \n",
    "# Here we need to pass the values in shape nsamples * nclasses For our scenario we have 1 * 3\n",
    "good_predicted = torch.tensor([[2.0, 1.0, 0.1]]) # So here are the raw values\n",
    "bad_predicted = torch.tensor([[0.5, 2.0, 0.3]]) # So here are the raw values\n",
    "\n",
    "loss = torch.nn.CrossEntropyLoss()\n",
    "\n",
    "# As you can see the loss is higher when the prediction is incorrect\n",
    "print(f'Cross Entropy Loss using PyTorch {loss(good_predicted, actual)} with correct prediction')\n",
    "print(f'Cross Entropy Loss using PyTorch {loss(bad_predicted, actual)} with incorrect prediction')"
   ]
  }
 ],
 "metadata": {
  "kernelspec": {
   "display_name": "Python 3",
   "language": "python",
   "name": "python3"
  },
  "language_info": {
   "codemirror_mode": {
    "name": "ipython",
    "version": 3
   },
   "file_extension": ".py",
   "mimetype": "text/x-python",
   "name": "python",
   "nbconvert_exporter": "python",
   "pygments_lexer": "ipython3",
   "version": "3.12.1"
  }
 },
 "nbformat": 4,
 "nbformat_minor": 2
}
