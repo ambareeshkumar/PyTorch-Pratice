{
 "cells": [
  {
   "cell_type": "code",
   "execution_count": 42,
   "metadata": {},
   "outputs": [],
   "source": [
    "# Importing the libraries\n",
    "import torch\n",
    "import torch.nn as nn\n",
    "from torchvision import datasets\n",
    "import torchvision.transforms as transforms\n",
    "from torch.utils.data import DataLoader\n",
    "import matplotlib.pyplot as plt\n",
    "import torchvision"
   ]
  },
  {
   "cell_type": "code",
   "execution_count": 10,
   "metadata": {},
   "outputs": [
    {
     "name": "stdout",
     "output_type": "stream",
     "text": [
      "cpu\n"
     ]
    }
   ],
   "source": [
    "# Checking device availability\n",
    "device = torch.device('cuda' if torch.cuda.is_available() else 'cpu')\n",
    "print(device)"
   ]
  },
  {
   "cell_type": "code",
   "execution_count": 11,
   "metadata": {},
   "outputs": [],
   "source": [
    "# Load data\n",
    "train_dataset = datasets.MNIST(root = './Data', train = True, transform = transforms.ToTensor(), download = True)\n",
    "\n",
    "test_dataset = datasets.MNIST(root = './Data', train = False, transform = transforms.ToTensor())"
   ]
  },
  {
   "cell_type": "code",
   "execution_count": 12,
   "metadata": {},
   "outputs": [],
   "source": [
    "# Hyper parameters\n",
    "\n",
    "batch_size = 100\n",
    "sequence_length = 28\n",
    "num_layers = 2\n",
    "learning_rate = 0.001\n",
    "input_size =  28\n",
    "hidden_size = 128\n",
    "n_classes = 10\n",
    "num_epochs  = 10"
   ]
  },
  {
   "cell_type": "code",
   "execution_count": 13,
   "metadata": {},
   "outputs": [],
   "source": [
    "# Loading dataset using data loader\n",
    "train_loader = DataLoader(dataset = train_dataset, batch_size = batch_size, shuffle = True )\n",
    "test_loader = DataLoader(dataset = train_dataset, batch_size = batch_size, shuffle = False)"
   ]
  },
  {
   "cell_type": "code",
   "execution_count": 14,
   "metadata": {},
   "outputs": [
    {
     "name": "stdout",
     "output_type": "stream",
     "text": [
      "torch.Size([100, 1, 28, 28]) torch.Size([100])\n"
     ]
    }
   ],
   "source": [
    "# Size of the samples and labels\n",
    "examples = iter(train_loader)\n",
    "samples, labels = next(examples)\n",
    "print(samples.shape, labels.shape) # samples shape is 100, 1, 28, 28 which is 100 samples, 1 channel, 28 * 28 pixels\n",
    "# labels shape is 100, which is 100 labels"
   ]
  },
  {
   "cell_type": "code",
   "execution_count": 18,
   "metadata": {},
   "outputs": [
    {
     "name": "stdout",
     "output_type": "stream",
     "text": [
      "Epoch [1/10], Step [100/600], Loss: 0.9453\n",
      "Epoch [1/10], Step [200/600], Loss: 0.7098\n",
      "Epoch [1/10], Step [300/600], Loss: 0.5149\n",
      "Epoch [1/10], Step [400/600], Loss: 0.3086\n",
      "Epoch [1/10], Step [500/600], Loss: 0.4703\n",
      "Epoch [1/10], Step [600/600], Loss: 0.1764\n",
      "Epoch [2/10], Step [100/600], Loss: 0.1954\n",
      "Epoch [2/10], Step [200/600], Loss: 0.3411\n",
      "Epoch [2/10], Step [300/600], Loss: 0.2525\n",
      "Epoch [2/10], Step [400/600], Loss: 0.3689\n",
      "Epoch [2/10], Step [500/600], Loss: 0.2466\n",
      "Epoch [2/10], Step [600/600], Loss: 0.1027\n",
      "Epoch [3/10], Step [100/600], Loss: 0.1523\n",
      "Epoch [3/10], Step [200/600], Loss: 0.1909\n",
      "Epoch [3/10], Step [300/600], Loss: 0.1529\n",
      "Epoch [3/10], Step [400/600], Loss: 0.1831\n",
      "Epoch [3/10], Step [500/600], Loss: 0.1077\n",
      "Epoch [3/10], Step [600/600], Loss: 0.0823\n",
      "Epoch [4/10], Step [100/600], Loss: 0.2108\n",
      "Epoch [4/10], Step [200/600], Loss: 0.1261\n",
      "Epoch [4/10], Step [300/600], Loss: 0.2030\n",
      "Epoch [4/10], Step [400/600], Loss: 0.2461\n",
      "Epoch [4/10], Step [500/600], Loss: 0.1084\n",
      "Epoch [4/10], Step [600/600], Loss: 0.0851\n",
      "Epoch [5/10], Step [100/600], Loss: 0.2014\n",
      "Epoch [5/10], Step [200/600], Loss: 0.1263\n",
      "Epoch [5/10], Step [300/600], Loss: 0.0212\n",
      "Epoch [5/10], Step [400/600], Loss: 0.3149\n",
      "Epoch [5/10], Step [500/600], Loss: 0.2660\n",
      "Epoch [5/10], Step [600/600], Loss: 0.0593\n",
      "Epoch [6/10], Step [100/600], Loss: 0.0915\n",
      "Epoch [6/10], Step [200/600], Loss: 0.1262\n",
      "Epoch [6/10], Step [300/600], Loss: 0.1508\n",
      "Epoch [6/10], Step [400/600], Loss: 0.1244\n",
      "Epoch [6/10], Step [500/600], Loss: 0.0713\n",
      "Epoch [6/10], Step [600/600], Loss: 0.2354\n",
      "Epoch [7/10], Step [100/600], Loss: 0.1098\n",
      "Epoch [7/10], Step [200/600], Loss: 0.1969\n",
      "Epoch [7/10], Step [300/600], Loss: 0.1155\n",
      "Epoch [7/10], Step [400/600], Loss: 0.0137\n",
      "Epoch [7/10], Step [500/600], Loss: 0.2657\n",
      "Epoch [7/10], Step [600/600], Loss: 0.1235\n",
      "Epoch [8/10], Step [100/600], Loss: 0.0406\n",
      "Epoch [8/10], Step [200/600], Loss: 0.0868\n",
      "Epoch [8/10], Step [300/600], Loss: 0.0928\n",
      "Epoch [8/10], Step [400/600], Loss: 0.0909\n",
      "Epoch [8/10], Step [500/600], Loss: 0.0568\n",
      "Epoch [8/10], Step [600/600], Loss: 0.0666\n",
      "Epoch [9/10], Step [100/600], Loss: 0.0231\n",
      "Epoch [9/10], Step [200/600], Loss: 0.0596\n",
      "Epoch [9/10], Step [300/600], Loss: 0.1161\n",
      "Epoch [9/10], Step [400/600], Loss: 0.0841\n",
      "Epoch [9/10], Step [500/600], Loss: 0.1039\n",
      "Epoch [9/10], Step [600/600], Loss: 0.1241\n",
      "Epoch [10/10], Step [100/600], Loss: 0.0989\n",
      "Epoch [10/10], Step [200/600], Loss: 0.1351\n",
      "Epoch [10/10], Step [300/600], Loss: 0.0848\n",
      "Epoch [10/10], Step [400/600], Loss: 0.0588\n",
      "Epoch [10/10], Step [500/600], Loss: 0.0174\n",
      "Epoch [10/10], Step [600/600], Loss: 0.1765\n",
      "Accuracy of the model : 97.0\n"
     ]
    }
   ],
   "source": [
    "# Implementing the Neural Network\n",
    "\n",
    "class RNN(nn.Module):\n",
    "\n",
    "    def __init__(self, input_size, hidden_size, num_layers, n_classes):\n",
    "        super(RNN,self).__init__()\n",
    "        self.num_layers = num_layers\n",
    "        self.hidden_size = hidden_size\n",
    "        self.rnn = nn.RNN(input_size, hidden_size, num_layers, batch_first=True)\n",
    "        self.fc = nn.Linear(hidden_size, n_classes)\n",
    "    \n",
    "\n",
    "    def forward(self, x):\n",
    "        # Initial hidden state \n",
    "        h0 = torch.zeros(self.num_layers, x.size(0), self.hidden_size).to(device) # 2, 100, 128\n",
    "        out, _ = self.rnn(x, h0)\n",
    "        # out : batch_size, seq_length, hidden_size\n",
    "        # Output = [N, 28, 128]\n",
    "        out = out[:, -1, :]\n",
    "        out = self.fc(out)\n",
    "        return out\n",
    "\n",
    "\n",
    "model = RNN(input_size, hidden_size, num_layers, n_classes).to(device) # 28, 128, 2, 10\n",
    "\n",
    "\n",
    "# Loss and Optimiser\n",
    "criterion = nn.CrossEntropyLoss()\n",
    "optimizer = torch.optim.Adam(model.parameters(), lr = learning_rate)\n",
    "\n",
    "\n",
    "# Training loop\n",
    "n_totalsteps = len(train_loader)\n",
    "\n",
    "for epoch in range(num_epochs):\n",
    "\n",
    "    for i, (images, labels) in enumerate(train_loader):\n",
    "        #  Reshape the images because the model expects a 1D tensor as input\n",
    "        images = images.reshape(-1,sequence_length, input_size).to(device) # Batch size, sequence length, input size = 100, 28, 28\n",
    "        labels = labels.to(device)\n",
    "\n",
    "        # Forward\n",
    "        outputs = model(images)\n",
    "        loss = criterion(outputs, labels)\n",
    "\n",
    "        # Backward\n",
    "        optimizer.zero_grad()\n",
    "        loss.backward()\n",
    "        optimizer.step()\n",
    "\n",
    "        if (i+1) % 100 == 0:\n",
    "            print (f'Epoch [{epoch+1}/{num_epochs}], Step [{i+1}/{n_totalsteps}], Loss: {loss.item():.4f}')\n",
    "\n",
    "\n",
    "# Test\n",
    "\n",
    "with torch.no_grad():\n",
    "    n_correct = 0\n",
    "    n_samples = 0\n",
    "\n",
    "    for images, labels in test_loader:\n",
    "        images = images.reshape(-1, sequence_length, input_size ).to(device)\n",
    "        lables = labels.to(device)\n",
    "        output = model(images)\n",
    "\n",
    "        _ , predictions = torch.max(output,1)\n",
    "        n_samples = labels.shape[0]\n",
    "\n",
    "        n_correct = (predictions == labels).sum().item()\n",
    "    \n",
    "    acc = (n_correct / n_samples) * 100\n",
    "\n",
    "    print(f'Accuracy of the model : {acc}')\n"
   ]
  },
  {
   "cell_type": "code",
   "execution_count": 45,
   "metadata": {},
   "outputs": [
    {
     "data": {
      "image/png": "[encoded data removed]",
      "text/plain": [
       "<Figure size 1500x800 with 10 Axes>"
      ]
     },
     "metadata": {},
     "output_type": "display_data"
    }
   ],
   "source": [
    "def plot_img_with_labels(images, predicted, actual, nrow=5):\n",
    "    fig, axes = plt.subplots(nrows=(len(images) + nrow - 1) // nrow, ncols=nrow, figsize=(15, 8))\n",
    "    axes = axes.flatten()\n",
    "    \n",
    "    for i, (img, pred, act) in enumerate(zip(images, predicted, actual)):\n",
    "        grid_image = torchvision.utils.make_grid(img.unsqueeze(0), nrow=1)\n",
    "        np_image = grid_image.cpu().numpy().transpose((1, 2, 0))\n",
    "        axes[i].imshow(np_image, cmap='gray')\n",
    "        axes[i].set_title(f'Pred: {pred}, Actual: {act}')\n",
    "        axes[i].axis('off')\n",
    "\n",
    "    for ax in axes[len(images):]:\n",
    "        ax.axis('off')\n",
    "\n",
    "    plt.tight_layout()\n",
    "    plt.show()\n",
    "\n",
    "images_list = []\n",
    "predicted_list = []\n",
    "actual_list = []\n",
    "\n",
    "for ele in range(10):\n",
    "    images, labels = test_dataset[ele]\n",
    "    images = images.reshape(-1, sequence_length, input_size).to(device)\n",
    "    output = model(images)\n",
    "    _, predictions = torch.max(output, 1)\n",
    "    \n",
    "    images_list.append(images.cpu())\n",
    "    predicted_list.append(predictions.item())\n",
    "    actual_list.append(labels)\n",
    "\n",
    "plot_img_with_labels(images_list, predicted_list, actual_list)"
   ]
  }
 ],
 "metadata": {
  "kernelspec": {
   "display_name": "Python 3",
   "language": "python",
   "name": "python3"
  },
  "language_info": {
   "codemirror_mode": {
    "name": "ipython",
    "version": 3
   },
   "file_extension": ".py",
   "mimetype": "text/x-python",
   "name": "python",
   "nbconvert_exporter": "python",
   "pygments_lexer": "ipython3",
   "version": "3.12.1"
  }
 },
 "nbformat": 4,
 "nbformat_minor": 2
}
