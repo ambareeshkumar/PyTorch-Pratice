{
 "cells": [
  {
   "cell_type": "markdown",
   "metadata": {},
   "source": [
    "###  Implementing MultiLayer Neural Network from scratch using pyTorch"
   ]
  },
  {
   "cell_type": "code",
   "execution_count": 3,
   "metadata": {},
   "outputs": [],
   "source": [
    "# Importing the libraries\n",
    "import torch\n",
    "import torch.nn as nn\n",
    "from torchvision import datasets\n",
    "import torchvision.transforms as transforms\n",
    "from torch.utils.data import DataLoader\n",
    "import matplotlib.pyplot as plt"
   ]
  },
  {
   "cell_type": "code",
   "execution_count": 5,
   "metadata": {},
   "outputs": [
    {
     "name": "stdout",
     "output_type": "stream",
     "text": [
      "cpu\n"
     ]
    }
   ],
   "source": [
    "# Checking device availability\n",
    "device = torch.device('cuda' if torch.cuda.is_available() else 'cpu')\n",
    "print(device)"
   ]
  },
  {
   "cell_type": "code",
   "execution_count": 13,
   "metadata": {},
   "outputs": [],
   "source": [
    "# Load data\n",
    "train_dataset = datasets.MNIST(root = './Data', train = True, transform = transforms.ToTensor(), download = True)\n",
    "\n",
    "test_dataset = datasets.MNIST(root = './Data', train = False, transform = transforms.ToTensor())"
   ]
  },
  {
   "cell_type": "code",
   "execution_count": 36,
   "metadata": {},
   "outputs": [],
   "source": [
    "# Hyper parameters\n",
    "\n",
    "batch_size = 100\n",
    "learning_rate = 0.001\n",
    "input_size = 784 # 28 * 28 --> Image pixels\n",
    "hidden_size = 100\n",
    "n_classes = 10\n",
    "num_epochs  = 10"
   ]
  },
  {
   "cell_type": "code",
   "execution_count": 27,
   "metadata": {},
   "outputs": [],
   "source": [
    "# Loading dataset using data loader\n",
    "train_loader = DataLoader(dataset = train_dataset, batch_size = batch_size, shuffle = True )\n",
    "test_loader = DataLoader(dataset = train_dataset, batch_size = batch_size, shuffle = False)"
   ]
  },
  {
   "cell_type": "code",
   "execution_count": 32,
   "metadata": {},
   "outputs": [
    {
     "name": "stdout",
     "output_type": "stream",
     "text": [
      "torch.Size([100, 1, 28, 28]) torch.Size([100])\n"
     ]
    }
   ],
   "source": [
    "# Size of the samples and labels\n",
    "examples = iter(train_loader)\n",
    "samples, labels = next(examples)\n",
    "print(samples.shape, labels.shape) # samples shape is 100, 1, 28, 28 which is 100 samples, 1 channel, 28 * 28 pixels\n",
    "# labels shape is 100, which is 100 labels"
   ]
  },
  {
   "cell_type": "code",
   "execution_count": 33,
   "metadata": {},
   "outputs": [
    {
     "data": {
      "image/png": "[encoded data removed]",
      "text/plain": [
       "<Figure size 640x480 with 6 Axes>"
      ]
     },
     "metadata": {},
     "output_type": "display_data"
    }
   ],
   "source": [
    "# Visualizing the data samples\n",
    "for i in range(6):\n",
    "    plt.subplot(2,3,i+1)\n",
    "    plt.imshow(samples[i][0], cmap = 'gray')\n",
    "\n",
    "plt.show()"
   ]
  },
  {
   "cell_type": "code",
   "execution_count": 51,
   "metadata": {},
   "outputs": [
    {
     "name": "stdout",
     "output_type": "stream",
     "text": [
      "Epoch [1/10], Step [100/600], Loss: 0.3880\n",
      "Epoch [1/10], Step [200/600], Loss: 0.3228\n",
      "Epoch [1/10], Step [300/600], Loss: 0.3209\n",
      "Epoch [1/10], Step [400/600], Loss: 0.2110\n",
      "Epoch [1/10], Step [500/600], Loss: 0.3666\n",
      "Epoch [1/10], Step [600/600], Loss: 0.2423\n",
      "Epoch [2/10], Step [100/600], Loss: 0.2128\n",
      "Epoch [2/10], Step [200/600], Loss: 0.1472\n",
      "Epoch [2/10], Step [300/600], Loss: 0.1999\n",
      "Epoch [2/10], Step [400/600], Loss: 0.3084\n",
      "Epoch [2/10], Step [500/600], Loss: 0.1768\n",
      "Epoch [2/10], Step [600/600], Loss: 0.2198\n",
      "Epoch [3/10], Step [100/600], Loss: 0.1454\n",
      "Epoch [3/10], Step [200/600], Loss: 0.1805\n",
      "Epoch [3/10], Step [300/600], Loss: 0.1220\n",
      "Epoch [3/10], Step [400/600], Loss: 0.1140\n",
      "Epoch [3/10], Step [500/600], Loss: 0.1966\n",
      "Epoch [3/10], Step [600/600], Loss: 0.1099\n",
      "Epoch [4/10], Step [100/600], Loss: 0.1264\n",
      "Epoch [4/10], Step [200/600], Loss: 0.1621\n",
      "Epoch [4/10], Step [300/600], Loss: 0.1012\n",
      "Epoch [4/10], Step [400/600], Loss: 0.1095\n",
      "Epoch [4/10], Step [500/600], Loss: 0.0717\n",
      "Epoch [4/10], Step [600/600], Loss: 0.1019\n",
      "Epoch [5/10], Step [100/600], Loss: 0.1396\n",
      "Epoch [5/10], Step [200/600], Loss: 0.0852\n",
      "Epoch [5/10], Step [300/600], Loss: 0.0657\n",
      "Epoch [5/10], Step [400/600], Loss: 0.0963\n",
      "Epoch [5/10], Step [500/600], Loss: 0.0267\n",
      "Epoch [5/10], Step [600/600], Loss: 0.0455\n",
      "Epoch [6/10], Step [100/600], Loss: 0.1116\n",
      "Epoch [6/10], Step [200/600], Loss: 0.0402\n",
      "Epoch [6/10], Step [300/600], Loss: 0.0222\n",
      "Epoch [6/10], Step [400/600], Loss: 0.0813\n",
      "Epoch [6/10], Step [500/600], Loss: 0.0704\n",
      "Epoch [6/10], Step [600/600], Loss: 0.1659\n",
      "Epoch [7/10], Step [100/600], Loss: 0.0323\n",
      "Epoch [7/10], Step [200/600], Loss: 0.1421\n",
      "Epoch [7/10], Step [300/600], Loss: 0.0392\n",
      "Epoch [7/10], Step [400/600], Loss: 0.0505\n",
      "Epoch [7/10], Step [500/600], Loss: 0.0666\n",
      "Epoch [7/10], Step [600/600], Loss: 0.0834\n",
      "Epoch [8/10], Step [100/600], Loss: 0.0267\n",
      "Epoch [8/10], Step [200/600], Loss: 0.0715\n",
      "Epoch [8/10], Step [300/600], Loss: 0.0492\n",
      "Epoch [8/10], Step [400/600], Loss: 0.0476\n",
      "Epoch [8/10], Step [500/600], Loss: 0.0183\n",
      "Epoch [8/10], Step [600/600], Loss: 0.0740\n",
      "Epoch [9/10], Step [100/600], Loss: 0.0329\n",
      "Epoch [9/10], Step [200/600], Loss: 0.0299\n",
      "Epoch [9/10], Step [300/600], Loss: 0.0394\n",
      "Epoch [9/10], Step [400/600], Loss: 0.0321\n",
      "Epoch [9/10], Step [500/600], Loss: 0.0389\n",
      "Epoch [9/10], Step [600/600], Loss: 0.0950\n",
      "Epoch [10/10], Step [100/600], Loss: 0.0216\n",
      "Epoch [10/10], Step [200/600], Loss: 0.0179\n",
      "Epoch [10/10], Step [300/600], Loss: 0.0383\n",
      "Epoch [10/10], Step [400/600], Loss: 0.0605\n",
      "Epoch [10/10], Step [500/600], Loss: 0.0305\n",
      "Epoch [10/10], Step [600/600], Loss: 0.0095\n",
      "Accuracy of the model : 99.0\n"
     ]
    }
   ],
   "source": [
    "# Implementing the Neural Network\n",
    "\n",
    "class NeuralNet(nn.Module):\n",
    "\n",
    "    def __init__(self, input_size, hidden_size, output_size):\n",
    "        super(NeuralNet,self).__init__()\n",
    "        self.l1 = nn.Linear(input_size, hidden_size,output_size)\n",
    "        self.relu = nn.ReLU()\n",
    "        self.l2 = nn.Linear(hidden_size,output_size)\n",
    "    \n",
    "    def forward(self, x):\n",
    "        out = self.l1(x)\n",
    "        out = self.relu(out)\n",
    "        out = self.l2(out)\n",
    "        return out\n",
    "\n",
    "model = NeuralNet(input_size, hidden_size, output_size=n_classes).to(device)\n",
    "\n",
    "\n",
    "# Loss and Optimiser\n",
    "criterion = nn.CrossEntropyLoss()\n",
    "optimizer = torch.optim.Adam(model.parameters(), lr = learning_rate)\n",
    "\n",
    "\n",
    "# Training loop\n",
    "n_totalsteps = len(train_loader)\n",
    "\n",
    "for epoch in range(num_epochs):\n",
    "\n",
    "    for i, (images, labels) in enumerate(train_loader):\n",
    "        #  Reshape the images because the model expects a 1D tensor as input\n",
    "        images = images.reshape(-1, 28 * 28).to(device)\n",
    "        labels = labels.to(device)\n",
    "\n",
    "        # Forward\n",
    "        outputs = model(images)\n",
    "        loss = criterion(outputs, labels)\n",
    "\n",
    "        # Backward\n",
    "        optimizer.zero_grad()\n",
    "        loss.backward()\n",
    "        optimizer.step()\n",
    "\n",
    "        if (i+1) % 100 == 0:\n",
    "            print (f'Epoch [{epoch+1}/{num_epochs}], Step [{i+1}/{n_totalsteps}], Loss: {loss.item():.4f}')\n",
    "\n",
    "\n",
    "# Test\n",
    "\n",
    "with torch.no_grad():\n",
    "    n_correct = 0\n",
    "    n_samples = 0\n",
    "\n",
    "    for images, labels in test_loader:\n",
    "        images = images.reshape(-1,28*28).to(device)\n",
    "        lables = labels.to(device)\n",
    "        output = model(images)\n",
    "\n",
    "        _ , predictions = torch.max(output,1)\n",
    "        n_samples = labels.shape[0]\n",
    "\n",
    "        n_correct = (predictions == labels).sum().item()\n",
    "    \n",
    "    acc = (n_correct / n_samples) * 100\n",
    "\n",
    "    print(f'Accuracy of the model : {acc}')\n"
   ]
  }
 ],
 "metadata": {
  "kernelspec": {
   "display_name": "Python 3",
   "language": "python",
   "name": "python3"
  },
  "language_info": {
   "codemirror_mode": {
    "name": "ipython",
    "version": 3
   },
   "file_extension": ".py",
   "mimetype": "text/x-python",
   "name": "python",
   "nbconvert_exporter": "python",
   "pygments_lexer": "ipython3",
   "version": "3.12.1"
  }
 },
 "nbformat": 4,
 "nbformat_minor": 2
}
