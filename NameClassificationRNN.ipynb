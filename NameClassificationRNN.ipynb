{
 "cells": [
  {
   "cell_type": "markdown",
   "metadata": {},
   "source": [
    "#### Name Classification using RNN"
   ]
  },
  {
   "cell_type": "code",
   "execution_count": 1,
   "metadata": {},
   "outputs": [],
   "source": [
    "# Utils Functions before building the model\n",
    "\n",
    "import os\n",
    "import io\n",
    "import unicodedata\n",
    "import string\n",
    "import glob\n",
    "import torch\n",
    "import torch.nn as nn\n",
    "import torch.nn.functional as F\n",
    "import torch.optim as optim\n",
    "import matplotlib.pyplot as plt\n",
    "import random"
   ]
  },
  {
   "cell_type": "code",
   "execution_count": 2,
   "metadata": {},
   "outputs": [
    {
     "name": "stdout",
     "output_type": "stream",
     "text": [
      "56\n"
     ]
    }
   ],
   "source": [
    "ALL_LETTERS = string.ascii_letters + \".,;'\"\n",
    "print(len(ALL_LETTERS))"
   ]
  },
  {
   "cell_type": "code",
   "execution_count": 3,
   "metadata": {},
   "outputs": [
    {
     "name": "stdout",
     "output_type": "stream",
     "text": [
      "['Khoury', 'Nahas', 'Daher', 'Gerges', 'Nazari']\n"
     ]
    }
   ],
   "source": [
    "# Turn a Unicode string to plain ASCII\n",
    "def unicode_to_ascii(s):\n",
    "    return \"\".join(c for c in unicodedata.normalize('NFD', s) if unicodedata.category(c) != 'Mn' and c in ALL_LETTERS)\n",
    "\n",
    "def load_data():\n",
    "    category_lines = {}\n",
    "    all_categories = []\n",
    "\n",
    "    def find_files(path):\n",
    "        return glob.glob(path)\n",
    "    \n",
    "    def read_lines(filename):\n",
    "        lines = io.open(filename, encoding='utf-8').read().strip().split('\\n')\n",
    "        return [unicode_to_ascii(line) for line in lines]\n",
    "    \n",
    "    for filename in find_files('./Data/Name Classification/names/*.txt'):\n",
    "        category = os.path.splitext(os.path.basename(filename))[0]\n",
    "        all_categories.append(category)\n",
    "        lines = read_lines(filename)\n",
    "        category_lines[category] = lines\n",
    "    \n",
    "    return category_lines, all_categories\n",
    "\n",
    "category_lines, all_categories = load_data()\n",
    "print(category_lines['Arabic'][:5])"
   ]
  },
  {
   "cell_type": "code",
   "execution_count": 4,
   "metadata": {},
   "outputs": [],
   "source": [
    "# Transform the data into tensors\n",
    "\n",
    "def letter_to_index(letter):\n",
    "    return ALL_LETTERS.find(letter)\n",
    "\n",
    "def letter_to_tensor(letter):\n",
    "    tensor = torch.zeros(1, len(ALL_LETTERS))\n",
    "    tensor[0][letter_to_index(letter_to_tensor)] = 1\n",
    "    return tensor\n",
    "\n",
    "def line_to_tensor(line):\n",
    "    tensor = torch.zeros(len(line), 1, len(ALL_LETTERS))\n",
    "    for li, letter in enumerate(line):\n",
    "        tensor[li][0][letter_to_index(letter)] = 1\n",
    "    return tensor"
   ]
  },
  {
   "cell_type": "code",
   "execution_count": 5,
   "metadata": {},
   "outputs": [],
   "source": [
    "class RNN(nn.Module):\n",
    "\n",
    "    def __init__(self, input_size, hidden_size, output_size):\n",
    "        super(RNN, self).__init__()\n",
    "\n",
    "        self.hidden_size = hidden_size\n",
    "        self.inputTohidden = nn.Linear(input_size + hidden_size, hidden_size)\n",
    "        self.inputToOutput = nn.Linear(input_size + hidden_size, output_size)\n",
    "        self.softmax = nn.LogSoftmax(dim = 1)\n",
    "\n",
    "    def forward(self, input_tensor, hidden_tensor):\n",
    "       \n",
    "        combined = torch.cat((input_tensor, hidden_tensor), 1)\n",
    "        hidden = self.inputTohidden(combined)\n",
    "        output  = self.inputToOutput(combined)\n",
    "        output = self.softmax(output)\n",
    "\n",
    "        return output, hidden\n",
    "    \n",
    "    def init_hidden(self):\n",
    "        return torch.zeros(1, self.hidden_size)"
   ]
  },
  {
   "cell_type": "code",
   "execution_count": 6,
   "metadata": {},
   "outputs": [
    {
     "name": "stdout",
     "output_type": "stream",
     "text": [
      "Number of categories: 18\n"
     ]
    }
   ],
   "source": [
    "# Loading the data\n",
    "\n",
    "category_lines, all_categories = load_data()\n",
    "print(f'Number of categories: {len(all_categories)}')"
   ]
  },
  {
   "cell_type": "code",
   "execution_count": 7,
   "metadata": {},
   "outputs": [],
   "source": [
    "# Instantiate the model\n",
    "\n",
    "n_letters = len(ALL_LETTERS)\n",
    "n_categories = len(all_categories)\n",
    "n_hidden = 128\n",
    "\n",
    "rnn =  RNN(n_letters, n_hidden, n_categories)"
   ]
  },
  {
   "cell_type": "code",
   "execution_count": 8,
   "metadata": {},
   "outputs": [],
   "source": [
    "def category_from_output(output):\n",
    "    top_n, top_i = output.topk(1)\n",
    "    category_i = top_i[0].item()\n",
    "    return all_categories[category_i], category_i"
   ]
  },
  {
   "cell_type": "code",
   "execution_count": 9,
   "metadata": {},
   "outputs": [
    {
     "name": "stdout",
     "output_type": "stream",
     "text": [
      "5000 5.0 2.8474 Borovka / Portuguese ✗ (Czech)\n",
      "10000 10.0 2.8574 Kurohiko / Portuguese ✗ (Japanese)\n",
      "15000 15.0 2.7782 Schmitz / Polish ✗ (German)\n",
      "20000 20.0 2.6513 Roche / French ✓\n",
      "25000 25.0 2.6034 Donnell / Dutch ✗ (Irish)\n",
      "30000 30.0 3.1325 Odea / Vietnamese ✗ (English)\n",
      "35000 35.0 1.3112 Niu / Chinese ✓\n",
      "40000 40.0 3.0279 Casey / Arabic ✗ (Irish)\n",
      "45000 45.0 3.0259 Zhilin / Arabic ✗ (Russian)\n",
      "50000 50.0 2.5905 Kasimor / Russian ✗ (Czech)\n",
      "55000 55.00000000000001 1.8149 Brian / Irish ✓\n",
      "60000 60.0 2.5750 Kelly / Spanish ✗ (Scottish)\n",
      "65000 65.0 2.5724 Scott / English ✗ (Scottish)\n",
      "70000 70.0 0.9135 Jaskulski / Polish ✓\n",
      "75000 75.0 1.8327 Klerk / Dutch ✓\n",
      "80000 80.0 3.2432 Kasa / Japanese ✗ (Czech)\n",
      "85000 85.0 2.5457 Petit / French ✗ (Spanish)\n",
      "90000 90.0 2.5707 Kehoe / Scottish ✗ (English)\n",
      "95000 95.0 0.0749 Antonopoulos / Greek ✓\n",
      "100000 100.0 2.9342 Dubois / Arabic ✗ (French)\n"
     ]
    },
    {
     "data": {
      "image/png": "[encoded data removed]",
      "text/plain": [
       "<Figure size 640x480 with 1 Axes>"
      ]
     },
     "metadata": {},
     "output_type": "display_data"
    }
   ],
   "source": [
    "# Training the model\n",
    "\n",
    "criterion = nn.NLLLoss()\n",
    "learning_rate = 0.001\n",
    "optimizer = optim.SGD(rnn.parameters(), lr = learning_rate)\n",
    "\n",
    "def train(line_tensor, category_tensor):\n",
    "\n",
    "    hidden = rnn.init_hidden()\n",
    "\n",
    "    for i in range(line_tensor.size()[0]):\n",
    "        output, hidden = rnn(line_tensor[i], hidden)\n",
    "\n",
    "    loss = criterion(output, category_tensor)\n",
    "\n",
    "    optimizer.zero_grad()\n",
    "    loss.backward()\n",
    "    optimizer.step()\n",
    "\n",
    "    return output, loss.item()\n",
    "\n",
    "def random_training_example(category_lines, all_categories):\n",
    "    category = random.choice(all_categories)\n",
    "    line = random.choice(category_lines[category])\n",
    "    category_tensor = torch.tensor([all_categories.index(category)], dtype=torch.long)\n",
    "    line_tensor = line_to_tensor(line)\n",
    "    return category, line, category_tensor, line_tensor\n",
    "\n",
    "\n",
    "current_loss = 0\n",
    "all_loss = []\n",
    "plot_steps, print_steps = 1000, 5000\n",
    "n_iters = 100000\n",
    "\n",
    "for iter in range(1, n_iters + 1):\n",
    "    category, line, category_tensor, line_tensor = random_training_example(category_lines, all_categories)\n",
    "    output, loss = train(line_tensor, category_tensor)\n",
    "    current_loss += loss\n",
    "\n",
    "    if iter % plot_steps == 0:\n",
    "        all_loss.append(current_loss / plot_steps)\n",
    "        current_loss = 0\n",
    "    \n",
    "    if iter % print_steps == 0:\n",
    "        guess, guess_i = category_from_output(output)\n",
    "        correct = '✓' if guess == category else f'✗ ({category})'\n",
    "        print(f'{iter} {iter/n_iters * 100} {loss:.4f} {line} / {guess} {correct}')\n",
    "\n",
    "plt.figure()\n",
    "plt.plot(all_loss)\n",
    "plt.show()"
   ]
  },
  {
   "cell_type": "code",
   "execution_count": 11,
   "metadata": {},
   "outputs": [],
   "source": [
    "def predict(input_line):\n",
    "    print(f'\\n> {input_line}')\n",
    "    with torch.no_grad():\n",
    "        line_tensor = line_to_tensor(input_line)\n",
    "        hidden = rnn.init_hidden()\n",
    "\n",
    "        for i in range(line_tensor.size()[0]):\n",
    "            output, hidden = rnn(line_tensor[i], hidden)\n",
    "        \n",
    "            guess = category_from_output(output)\n",
    "            print(guess)\n",
    "    \n",
    "\n",
    "while True:\n",
    "    sentence = input('Enter a name: ')\n",
    "    if sentence == 'q':\n",
    "        break\n",
    "    predict(sentence)"
   ]
  }
 ],
 "metadata": {
  "kernelspec": {
   "display_name": "Python 3",
   "language": "python",
   "name": "python3"
  },
  "language_info": {
   "codemirror_mode": {
    "name": "ipython",
    "version": 3
   },
   "file_extension": ".py",
   "mimetype": "text/x-python",
   "name": "python",
   "nbconvert_exporter": "python",
   "pygments_lexer": "ipython3",
   "version": "3.12.1"
  }
 },
 "nbformat": 4,
 "nbformat_minor": 2
}
