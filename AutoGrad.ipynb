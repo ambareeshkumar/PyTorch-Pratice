{
 "cells": [
  {
   "cell_type": "markdown",
   "metadata": {},
   "source": [
    "# Gradient Calculation with Autograd"
   ]
  },
  {
   "cell_type": "code",
   "execution_count": 1,
   "metadata": {},
   "outputs": [
    {
     "name": "stdout",
     "output_type": "stream",
     "text": [
      "tensor([0.5521, 0.9454, 0.5562])\n"
     ]
    }
   ],
   "source": [
    "# Normal torch without autograd\n",
    "import torch\n",
    "\n",
    "x = torch.rand(3)\n",
    "print(x)"
   ]
  },
  {
   "cell_type": "code",
   "execution_count": 33,
   "metadata": {},
   "outputs": [
    {
     "name": "stdout",
     "output_type": "stream",
     "text": [
      "tensor([0.0814, 0.4952, 0.3228], requires_grad=True)\n",
      "performing y = x + 1: tensor([1.0814, 1.4952, 1.3228], grad_fn=<AddBackward0>)\n",
      "performing z = x * 2: tensor([0.1629, 0.9904, 0.6457], grad_fn=<MulBackward0>)\n",
      "Mean gradient of z: tensor(0.5997, grad_fn=<MeanBackward0>)\n",
      "<MeanBackward0 object at 0x000002AD096A4FD0>\n"
     ]
    }
   ],
   "source": [
    "# Adding requires_grad=True to make it differentiable\n",
    "\n",
    "x = torch.rand(3, requires_grad=True)\n",
    "print(x)\n",
    "\n",
    "y = x + 1\n",
    "print(f'performing y = x + 1: {y}')\n",
    "\n",
    "z = x * 2\n",
    "print(f'performing z = x * 2: {z}')\n",
    "\n",
    "z = z.mean()\n",
    "print(f'Mean gradient of z:',z)\n",
    "\n",
    "print(z.grad_fn)\n"
   ]
  },
  {
   "cell_type": "code",
   "execution_count": 38,
   "metadata": {},
   "outputs": [
    {
     "name": "stdout",
     "output_type": "stream",
     "text": [
      "Tensor Before removing gradient : tensor([0.8682, 0.6887, 0.9159], requires_grad=True)\n",
      "------After removing gradient ------\n",
      "tensor([0.8682, 0.6887, 0.9159])\n",
      "tensor([0.8682, 0.6887, 0.9159])\n",
      "tensor([0.8682, 0.6887, 0.9159])\n"
     ]
    }
   ],
   "source": [
    "# How to remove the gradient in pytorch\n",
    "\n",
    "x = torch.rand(3, requires_grad=True)\n",
    "\n",
    "print(f'Tensor Before removing gradient : {x}')\n",
    "\n",
    "\n",
    "# There are Multiple ways to remove the gradient\n",
    "print('------After removing gradient ------')\n",
    "\n",
    "# Method 1\n",
    "print(x.requires_grad_(False))\n",
    "\n",
    "# Method 2\n",
    "print(x.detach())\n",
    "\n",
    "# Method 3\n",
    "with torch.no_grad():\n",
    "    print(x)"
   ]
  },
  {
   "cell_type": "code",
   "execution_count": 60,
   "metadata": {},
   "outputs": [
    {
     "name": "stdout",
     "output_type": "stream",
     "text": [
      "tensor(12., grad_fn=<SumBackward0>)\n",
      "tensor([3., 3., 3., 3.])\n",
      "--------Gradient for multiple epoch--------\n",
      "tensor(12., grad_fn=<SumBackward0>)\n",
      "Gradient of the weights after 0 epoch: tensor([6., 6., 6., 6.])\n",
      "tensor(12., grad_fn=<SumBackward0>)\n",
      "Gradient of the weights after 1 epoch: tensor([9., 9., 9., 9.])\n"
     ]
    }
   ],
   "source": [
    "\n",
    "weights  = torch.ones(4, requires_grad=True)\n",
    "\n",
    "\n",
    "# Updating the weights using gradient\n",
    "\n",
    "# For first Only one epoch it giving the gradient\n",
    "for epoch in range(1):\n",
    "    model_outputs = (weights*3).sum()\n",
    "    print(model_outputs)\n",
    "    model_outputs.backward()\n",
    "    print(weights.grad)\n",
    "\n",
    "\n",
    "# For multiple epoch it is adding the gradient to the previous gradient\n",
    "print(f'--------Gradient for multiple epoch--------')\n",
    "for epoch in range(2):\n",
    "    model_outputs = (weights*3).sum()\n",
    "    print(model_outputs)\n",
    "    model_outputs.backward()\n",
    "    print(f'Gradient of the weights after {epoch} epoch:',weights.grad)"
   ]
  },
  {
   "cell_type": "code",
   "execution_count": 64,
   "metadata": {},
   "outputs": [
    {
     "name": "stdout",
     "output_type": "stream",
     "text": [
      "--------Gradient for multiple epoch with removing gradient--------\n",
      "tensor(12., grad_fn=<SumBackward0>)\n",
      "Gradient of the weights after 0 epoch: tensor([3., 3., 3., 3.])\n",
      "tensor(12., grad_fn=<SumBackward0>)\n",
      "Gradient of the weights after 1 epoch: tensor([3., 3., 3., 3.])\n"
     ]
    }
   ],
   "source": [
    "# The above code is adding the gradient to the previous gradient so we need to remove the gradient after each epoch\n",
    "weights = torch.ones(4, requires_grad=True)\n",
    "\n",
    "# Removing the gradient after each epoch\n",
    "print(f'--------Gradient for multiple epoch with removing gradient--------')\n",
    "\n",
    "for epoch in range(2):\n",
    "    model_output = (weights*3).sum()\n",
    "    model_output.backward()\n",
    "    print(model_output)\n",
    "    print(f'Gradient of the weights after {epoch} epoch:',weights.grad)\n",
    "    weights.grad.zero_() # By  changing the gradient to zero after each epoch we can avoid the adding of gradient to the previous gradient\n",
    "    "
   ]
  }
 ],
 "metadata": {
  "kernelspec": {
   "display_name": "Python 3",
   "language": "python",
   "name": "python3"
  },
  "language_info": {
   "codemirror_mode": {
    "name": "ipython",
    "version": 3
   },
   "file_extension": ".py",
   "mimetype": "text/x-python",
   "name": "python",
   "nbconvert_exporter": "python",
   "pygments_lexer": "ipython3",
   "version": "3.12.1"
  }
 },
 "nbformat": 4,
 "nbformat_minor": 2
}
