{
 "cells": [
  {
   "cell_type": "markdown",
   "metadata": {},
   "source": [
    "#### Using  Dataset and DataLoader for the dataset of the project"
   ]
  },
  {
   "cell_type": "code",
   "execution_count": 19,
   "metadata": {},
   "outputs": [],
   "source": [
    "# Importing the libraries\n",
    "import torch\n",
    "import numpy as np\n",
    "import pandas as pd\n",
    "from torch.utils.data import Dataset, DataLoader\n",
    "import math"
   ]
  },
  {
   "cell_type": "code",
   "execution_count": 14,
   "metadata": {},
   "outputs": [
    {
     "data": {
      "text/plain": [
       "(tensor([1.3200e+01, 1.7800e+00, 2.1400e+00, 1.1200e+01, 1.0000e+02, 2.6500e+00,\n",
       "         2.7600e+00, 2.6000e-01, 1.2800e+00, 4.3800e+00, 1.0500e+00, 3.4000e+00,\n",
       "         1.0500e+03]),\n",
       " tensor([1.]))"
      ]
     },
     "execution_count": 14,
     "metadata": {},
     "output_type": "execute_result"
    }
   ],
   "source": [
    "# Create a dataset using the Dataset class from PyTorch\n",
    "\n",
    "# Create a custom dataset class\n",
    "class CustomDataset(Dataset):\n",
    "\n",
    "    # Initialize the dataset class with the dataset file path and the transform function to be applied on the dataset \n",
    "    def __init__(self):\n",
    "        xy = np.loadtxt('./Data/wine.csv', delimiter=\",\", dtype=np.float32, skiprows=1)\n",
    "        self.x = torch.from_numpy(xy[ : , 1: ])\n",
    "        self.y = torch.from_numpy(xy[ : , [0] ])\n",
    "        self.n_samples = xy.shape[0]\n",
    "\n",
    "    # Get the item at the given index in the dataset\n",
    "    def __getitem__(self,index):\n",
    "        return self.x[index], self.y[index]\n",
    "    \n",
    "    # Get the length of the dataset\n",
    "    def __len__(self):\n",
    "        return self.n_samples\n",
    "\n",
    "#   Create a DataLoader for the dataset\n",
    "wineDataset = CustomDataset()\n",
    "\n",
    "# Returning the first item in the dataset\n",
    "wineDataset.__getitem__(1)"
   ]
  },
  {
   "cell_type": "code",
   "execution_count": 29,
   "metadata": {},
   "outputs": [
    {
     "name": "stdout",
     "output_type": "stream",
     "text": [
      "printing the total number of samples: 178 and the number of iterations: 45\n",
      "epoch : 1/2, step:  5/45, inputs:torch.Size([4, 13])\n",
      "epoch : 1/2, step:  10/45, inputs:torch.Size([4, 13])\n",
      "epoch : 1/2, step:  15/45, inputs:torch.Size([4, 13])\n",
      "epoch : 1/2, step:  20/45, inputs:torch.Size([4, 13])\n",
      "epoch : 1/2, step:  25/45, inputs:torch.Size([4, 13])\n",
      "epoch : 1/2, step:  30/45, inputs:torch.Size([4, 13])\n",
      "epoch : 1/2, step:  35/45, inputs:torch.Size([4, 13])\n",
      "epoch : 1/2, step:  40/45, inputs:torch.Size([4, 13])\n",
      "epoch : 1/2, step:  45/45, inputs:torch.Size([2, 13])\n",
      "epoch : 2/2, step:  5/45, inputs:torch.Size([4, 13])\n",
      "epoch : 2/2, step:  10/45, inputs:torch.Size([4, 13])\n",
      "epoch : 2/2, step:  15/45, inputs:torch.Size([4, 13])\n",
      "epoch : 2/2, step:  20/45, inputs:torch.Size([4, 13])\n",
      "epoch : 2/2, step:  25/45, inputs:torch.Size([4, 13])\n",
      "epoch : 2/2, step:  30/45, inputs:torch.Size([4, 13])\n",
      "epoch : 2/2, step:  35/45, inputs:torch.Size([4, 13])\n",
      "epoch : 2/2, step:  40/45, inputs:torch.Size([4, 13])\n",
      "epoch : 2/2, step:  45/45, inputs:torch.Size([2, 13])\n"
     ]
    }
   ],
   "source": [
    "# using the DataLoader class to create a DataLoader for the dataset\n",
    "dataloader = DataLoader(dataset=wineDataset, batch_size=4,  shuffle=True)\n",
    "\n",
    "# Iterating through the DataLoader\n",
    "num_epochs = 2\n",
    "totalsamples =  wineDataset.__len__()\n",
    "n_iter = math.ceil(totalsamples/4)\n",
    "\n",
    "# Here the number of iterations is the total number of samples divided by the batch size\n",
    "# num_epochs is the number of times the forward and backward pass is done on the dataset\n",
    "# total samples is the total number of samples in the dataset\n",
    "# n_iter is the number of iterations in each epoch\n",
    "print(f'printing the total number of samples: {totalsamples} and the number of iterations: {n_iter}')\n",
    "\n",
    "\n",
    "# Iterating through the DataLoader\n",
    "for epoch in range(num_epochs):\n",
    "    # Loop through the DataLoader\n",
    "    for i, (inputs, labels) in enumerate(dataloader):\n",
    "        if (i+1) % 5 == 0:\n",
    "            print(f'epoch : {epoch+1}/{num_epochs}, step:  {i+1}/{n_iter}, inputs:{inputs.shape}')"
   ]
  }
 ],
 "metadata": {
  "kernelspec": {
   "display_name": "Python 3",
   "language": "python",
   "name": "python3"
  },
  "language_info": {
   "codemirror_mode": {
    "name": "ipython",
    "version": 3
   },
   "file_extension": ".py",
   "mimetype": "text/x-python",
   "name": "python",
   "nbconvert_exporter": "python",
   "pygments_lexer": "ipython3",
   "version": "3.12.1"
  }
 },
 "nbformat": 4,
 "nbformat_minor": 2
}
