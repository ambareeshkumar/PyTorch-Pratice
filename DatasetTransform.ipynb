{
 "cells": [
  {
   "cell_type": "markdown",
   "metadata": {},
   "source": [
    "#### Transformation of data using custom transformation functions using pyTorch"
   ]
  },
  {
   "cell_type": "code",
   "execution_count": 1,
   "metadata": {},
   "outputs": [],
   "source": [
    "# Using Dataset and composed transforms to  transforma data in PyTorch \n",
    "import torch\n",
    "import numpy as np\n",
    "from torch.utils.data import Dataset"
   ]
  },
  {
   "cell_type": "code",
   "execution_count": 122,
   "metadata": {},
   "outputs": [],
   "source": [
    "# custom dataset creation\n",
    "\n",
    "class CustomDataset(Dataset):\n",
    "\n",
    "    def __init__(self, transform = None):\n",
    "        super().__init__()    \n",
    "        \n",
    "        self.xy = np.loadtxt('./Data/wine.csv', skiprows = 1, delimiter = \",\", dtype = np.float32)\n",
    "        self.x = self.xy[: , 1:]\n",
    "        self.y = self.xy[: , [0]]\n",
    "        self.transform = transform\n",
    "\n",
    "    def __getitem__(self, index):\n",
    "        data = self.x[index], self.y[index]\n",
    "        \n",
    "        if self.transform:\n",
    "            data = self.transform(data)\n",
    "        \n",
    "        return data\n",
    "    \n",
    "    def __len__(self):\n",
    "        return self.xy.shape[0]"
   ]
  },
  {
   "cell_type": "code",
   "execution_count": 123,
   "metadata": {},
   "outputs": [],
   "source": [
    "# Implementing Custom Transform Function\n",
    "class ToTensor:\n",
    "    def __call__(self, data):\n",
    "        inputs, outputs =  data\n",
    "        return torch.from_numpy(inputs), torch.from_numpy(outputs)"
   ]
  },
  {
   "cell_type": "code",
   "execution_count": 125,
   "metadata": {},
   "outputs": [
    {
     "data": {
      "text/plain": [
       "(tensor([1.4230e+01, 1.7100e+00, 2.4300e+00, 1.5600e+01, 1.2700e+02, 2.8000e+00,\n",
       "         3.0600e+00, 2.8000e-01, 2.2900e+00, 5.6400e+00, 1.0400e+00, 3.9200e+00,\n",
       "         1.0650e+03]),\n",
       " tensor([1.]))"
      ]
     },
     "execution_count": 125,
     "metadata": {},
     "output_type": "execute_result"
    }
   ],
   "source": [
    "# converting the numpy array to tensor using the custom transform function\n",
    "wine = CustomDataset(transform=ToTensor())\n",
    "wine[0]"
   ]
  },
  {
   "cell_type": "code",
   "execution_count": 138,
   "metadata": {},
   "outputs": [],
   "source": [
    "# Implementing Composed Transform Function \n",
    "\n",
    "from dataclasses import dataclass\n",
    "import torch\n",
    "\n",
    "@dataclass\n",
    "class ArithmeticTransform:\n",
    "    operations: str\n",
    "    num: int\n",
    "\n",
    "    def __call__(self, data: tuple[torch.Tensor, torch.Tensor]) -> tuple[torch.Tensor, torch.Tensor]:\n",
    "        inputs, outputs = data\n",
    "\n",
    "        operation_dict = {\n",
    "            '*': torch.mul,\n",
    "            '+': torch.add,\n",
    "            '-': torch.sub,\n",
    "            '/': torch.div\n",
    "        }\n",
    "\n",
    "        operation_func = operation_dict.get(self.operations)\n",
    "        if operation_func:\n",
    "            inputs = operation_func(inputs, self.num)\n",
    "        \n",
    "        return inputs, outputs"
   ]
  },
  {
   "cell_type": "code",
   "execution_count": 140,
   "metadata": {},
   "outputs": [
    {
     "data": {
      "text/plain": [
       "(tensor([2.8460e+01, 3.4200e+00, 4.8600e+00, 3.1200e+01, 2.5400e+02, 5.6000e+00,\n",
       "         6.1200e+00, 5.6000e-01, 4.5800e+00, 1.1280e+01, 2.0800e+00, 7.8400e+00,\n",
       "         2.1300e+03]),\n",
       " tensor([1.]))"
      ]
     },
     "execution_count": 140,
     "metadata": {},
     "output_type": "execute_result"
    }
   ],
   "source": [
    "import torchvision\n",
    "\n",
    "\"\"\"\n",
    "Main use case of this Compose from torchvision is to compose several transforms together.\n",
    "Here we are using it to compose our custom transform functions of ToTensor and ArithmeticTransform.\n",
    "\"\"\"\n",
    "\n",
    "# This composed transform will first convert the numpy array to tensor and then multiply the input tensor by 2\n",
    "composed = torchvision.transforms.Compose([ToTensor(),ArithmeticTransform('*',2)])\n",
    "dataset = CustomDataset(transform=composed)\n",
    "dataset[0]"
   ]
  }
 ],
 "metadata": {
  "kernelspec": {
   "display_name": "Python 3",
   "language": "python",
   "name": "python3"
  },
  "language_info": {
   "codemirror_mode": {
    "name": "ipython",
    "version": 3
   },
   "file_extension": ".py",
   "mimetype": "text/x-python",
   "name": "python",
   "nbconvert_exporter": "python",
   "pygments_lexer": "ipython3",
   "version": "3.12.1"
  }
 },
 "nbformat": 4,
 "nbformat_minor": 2
}
