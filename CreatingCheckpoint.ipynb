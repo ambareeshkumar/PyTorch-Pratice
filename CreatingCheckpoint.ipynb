{
 "cells": [
  {
   "cell_type": "markdown",
   "metadata": {},
   "source": [
    "#### Creating Checkpoint for the model and loading the model from the checkpoint"
   ]
  },
  {
   "cell_type": "code",
   "execution_count": 1,
   "metadata": {},
   "outputs": [],
   "source": [
    "import torch\n",
    "import torch.nn as nn\n",
    "import torch.nn.functional as F\n",
    "import torch.optim as optim"
   ]
  },
  {
   "cell_type": "code",
   "execution_count": 2,
   "metadata": {},
   "outputs": [],
   "source": [
    "# Create a simple neural network\n",
    "\n",
    "class SampleNeuralNet(nn.Module):\n",
    "\n",
    "    def __init__(self, n_feautres):\n",
    "        super(SampleNeuralNet, self).__init__()\n",
    "        self.fc1 = nn.Linear(n_feautres, 3)\n",
    "        self.fc2 = nn.Linear(3, 1)\n",
    "    \n",
    "    def forward(self, x):\n",
    "        self.fc1_out = self.fc1(nn.ReLU())\n",
    "        self.fc2_out = self.fc2(nn.ReLU())\n",
    "        return self.fc2_out"
   ]
  },
  {
   "cell_type": "code",
   "execution_count": 7,
   "metadata": {},
   "outputs": [
    {
     "name": "stdout",
     "output_type": "stream",
     "text": [
      "Before saving: {'state': {}, 'param_groups': [{'lr': 0.01, 'betas': (0.9, 0.999), 'eps': 1e-08, 'weight_decay': 0, 'amsgrad': False, 'maximize': False, 'foreach': None, 'capturable': False, 'differentiable': False, 'fused': None, 'params': [0, 1, 2, 3]}]}\n"
     ]
    }
   ],
   "source": [
    "model = SampleNeuralNet(10)\n",
    "optimizer = optim.Adam(model.parameters(), lr=0.01)\n",
    "\n",
    "checkpoint = {\n",
    "    'epoch': 1,\n",
    "    'model_state_dict': model.state_dict(),\n",
    "    'optimizer_state_dict': optimizer.state_dict(),\n",
    "}\n",
    "\n",
    "print(f'Before saving: {checkpoint['optimizer_state_dict']}')"
   ]
  },
  {
   "cell_type": "code",
   "execution_count": 5,
   "metadata": {},
   "outputs": [],
   "source": [
    "# Saving the checkpoint\n",
    "\n",
    "File = 'Model/Checkpoint.pth'\n",
    "\n",
    "torch.save(checkpoint, File)"
   ]
  },
  {
   "cell_type": "code",
   "execution_count": 12,
   "metadata": {},
   "outputs": [
    {
     "name": "stdout",
     "output_type": "stream",
     "text": [
      "True\n"
     ]
    }
   ],
   "source": [
    "# Loading the model and passing the checkout\n",
    "\n",
    "load_model = SampleNeuralNet(10)\n",
    "load_optimizer = optim.Adam(load_model.parameters(), lr=0)\n",
    "\n",
    "load_model.load_state_dict(checkpoint['model_state_dict'])\n",
    "load_optimizer.load_state_dict(checkpoint['optimizer_state_dict'])\n",
    "\n",
    "# After loading the checkpoint the optimizer should have the same learning rate as the original optimizer\n",
    "print(load_optimizer.state_dict()['param_groups'][0]['lr'] == optimizer.state_dict()['param_groups'][0]['lr'])"
   ]
  }
 ],
 "metadata": {
  "kernelspec": {
   "display_name": "Python 3",
   "language": "python",
   "name": "python3"
  },
  "language_info": {
   "codemirror_mode": {
    "name": "ipython",
    "version": 3
   },
   "file_extension": ".py",
   "mimetype": "text/x-python",
   "name": "python",
   "nbconvert_exporter": "python",
   "pygments_lexer": "ipython3",
   "version": "3.12.1"
  }
 },
 "nbformat": 4,
 "nbformat_minor": 2
}
